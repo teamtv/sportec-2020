{
 "cells": [
  {
   "cell_type": "markdown",
   "metadata": {},
   "source": [
    "# Installation\n",
    "\n",
    "kloppy can be installed using `pip install kloppy`. This will install latest version of kloppy."
   ]
  },
  {
   "cell_type": "code",
   "execution_count": null,
   "metadata": {},
   "outputs": [],
   "source": [
    "import sys\n",
    "!{sys.executable} -m pip install kloppy"
   ]
  },
  {
   "cell_type": "markdown",
   "metadata": {},
   "source": [
    "# Loading data\n"
   ]
  },
  {
   "cell_type": "code",
   "execution_count": null,
   "metadata": {},
   "outputs": [],
   "source": [
    "from kloppy import load_sportec_event_data\n",
    "from kloppy.domain import EventType, ShotResult, Orientation\n",
    "\n",
    "\n",
    "dataset = load_sportec_event_data(\n",
    "    \"/Users/koen/Dropbox/PySport/kloppy-dev/Eventdata_DFL-MAT-003BN1.xml\",\n",
    "    \"/Users/koen/Dropbox/PySport/kloppy-dev/Match_Infos_DFL-MAT-003BN1.xml\",\n",
    ")\n",
    "\n",
    "home_team, away_team = dataset.metadata.teams\n",
    "\n",
    "shot_dataset = dataset.filter(\n",
    "    lambda event: event.event_type == EventType.SHOT and event.team == home_team\n",
    ")\n",
    "\n"
   ]
  },
  {
   "cell_type": "code",
   "execution_count": null,
   "metadata": {},
   "outputs": [],
   "source": [
    "print(home_team)"
   ]
  },
  {
   "cell_type": "markdown",
   "metadata": {},
   "source": [
    "# Plotting the data\n",
    "\n",
    "- Install mplsoccer package\n",
    "- Plot shots of Freiburg"
   ]
  },
  {
   "cell_type": "code",
   "execution_count": null,
   "metadata": {},
   "outputs": [],
   "source": [
    "!{sys.executable} -m pip install mplsoccer seaborn"
   ]
  },
  {
   "cell_type": "code",
   "execution_count": null,
   "metadata": {
    "scrolled": false
   },
   "outputs": [],
   "source": [
    "from mplsoccer.pitch import Pitch\n",
    "import matplotlib.pyplot as plt\n",
    "#plt.style.use('ggplot')\n",
    "\n",
    "pitch = Pitch(figsize=(10, 8), pitch_type='uefa')\n",
    "fig, ax = pitch.draw()\n",
    "sc = pitch.scatter([0, 105, 105, 0], [68, 0, 68, 0],\n",
    "                   c=['red', 'blue', 'green', 'yellow'],\n",
    "                   s=200, label='scatter', ax=ax)"
   ]
  },
  {
   "cell_type": "code",
   "execution_count": null,
   "metadata": {},
   "outputs": [],
   "source": [
    "\n",
    "\n",
    "x, y = zip(*[(event.coordinates.x, event.coordinates.y) for event in shot_dataset.events])\n",
    "\n",
    "pitch = Pitch(figsize=(10, 8), pitch_type='uefa')\n",
    "fig, ax = pitch.draw()\n",
    "sc = pitch.scatter(x, y,\n",
    "                   c='blue',\n",
    "                   s=200, label='scatter', ax=ax)"
   ]
  },
  {
   "cell_type": "code",
   "execution_count": null,
   "metadata": {},
   "outputs": [],
   "source": [
    "\n",
    "shot_dataset = dataset.filter(lambda event: event.event_type == EventType.SHOT and event.team == home_team)\n",
    "\n",
    "x, y, results = zip(*[(event.coordinates.x, event.coordinates.y, event.result) for event in shot_dataset.events])\n",
    "\n",
    "pitch = Pitch(figsize=(10, 8), pitch_type='uefa')\n",
    "fig, ax = pitch.draw()\n",
    "sc = pitch.scatter(x, y,\n",
    "                   c=['green' if result == ShotResult.GOAL else 'blue' for result in results],\n",
    "                   s=200, label='scatter', ax=ax)"
   ]
  },
  {
   "cell_type": "code",
   "execution_count": null,
   "metadata": {},
   "outputs": [],
   "source": [
    "# check pitch dimensions\n",
    "dataset.metadata.pitch_dimensions"
   ]
  },
  {
   "cell_type": "markdown",
   "metadata": {},
   "source": [
    "# Preparing data\n",
    "\n",
    "\n",
    "## Standarizing data\n",
    "\n",
    "First step: correct the pitch dimensions to match the UEFA dimensions. This will stretch the x-axes."
   ]
  },
  {
   "cell_type": "code",
   "execution_count": null,
   "metadata": {},
   "outputs": [],
   "source": [
    "shot_dataset_prepared = (\n",
    "    shot_dataset\n",
    "    .transform(\n",
    "        to_pitch_dimensions=[[0, 105], [0, 68]]\n",
    "    )\n",
    ")"
   ]
  },
  {
   "cell_type": "code",
   "execution_count": null,
   "metadata": {},
   "outputs": [],
   "source": [
    "x, y, results = zip(*[(event.coordinates.x, event.coordinates.y, event.result) for event in shot_dataset_prepared.events])\n",
    "\n",
    "pitch = Pitch(figsize=(10, 8), pitch_type='uefa')\n",
    "fig, ax = pitch.draw()\n",
    "sc = pitch.scatter(x, y,\n",
    "                   c=['green' if result == ShotResult.GOAL else 'blue' for result in results],\n",
    "                   s=200, label='scatter', ax=ax)"
   ]
  },
  {
   "cell_type": "markdown",
   "metadata": {},
   "source": [
    "Second step: make sure all shots have the same orientation."
   ]
  },
  {
   "cell_type": "code",
   "execution_count": null,
   "metadata": {},
   "outputs": [],
   "source": [
    "shot_dataset_prepared = (\n",
    "    shot_dataset\n",
    "    .transform(\n",
    "        to_pitch_dimensions=[[0, 105], [0, 68]],\n",
    "        to_orientation=Orientation.HOME_TEAM\n",
    "    )\n",
    ")"
   ]
  },
  {
   "cell_type": "code",
   "execution_count": null,
   "metadata": {},
   "outputs": [],
   "source": [
    "x, y, results = zip(*[(event.coordinates.x, event.coordinates.y, event.result) for event in shot_dataset_prepared.events])\n",
    "\n",
    "pitch = Pitch(figsize=(10, 8), pitch_type='uefa')\n",
    "fig, ax = pitch.draw()\n",
    "sc = pitch.scatter(x, y,\n",
    "                   c=['green' if result == ShotResult.GOAL else 'blue' for result in results],\n",
    "                   s=200, label='scatter', ax=ax)"
   ]
  },
  {
   "cell_type": "markdown",
   "metadata": {},
   "source": [
    "## Enriching data: adding state\n",
    "\n",
    "Process of adding calculated data"
   ]
  },
  {
   "cell_type": "code",
   "execution_count": null,
   "metadata": {},
   "outputs": [],
   "source": [
    "# Lineup and sequence state require ALL events to be in: filtering must be applied AFTER adding state to events\n",
    "shot_dataset_enriched = (\n",
    "    dataset\n",
    "    .add_state('score', 'sequence', 'lineup')\n",
    "    .filter(\n",
    "        lambda event: event.event_type == EventType.SHOT and event.team == home_team\n",
    "    )\n",
    "    .transform(\n",
    "        to_pitch_dimensions=[[0, 105], [0, 68]],\n",
    "        to_orientation=Orientation.HOME_TEAM\n",
    "    )\n",
    ")\n",
    "\n",
    "substituted_player = home_team.get_player_by_id('DFL-OBJ-002FVJ')\n",
    "print(substituted_player)"
   ]
  },
  {
   "cell_type": "code",
   "execution_count": null,
   "metadata": {},
   "outputs": [],
   "source": [
    "for shot in shot_dataset_enriched.events:\n",
    "    print(f\"{str(shot.player):<20} - \"\n",
    "          f\"{shot.state['score']} - \"\n",
    "          f\"{substituted_player in shot.state['lineup'].players}\")"
   ]
  },
  {
   "cell_type": "code",
   "execution_count": null,
   "metadata": {},
   "outputs": [],
   "source": [
    "shot_dataset_enriched.to_pandas()"
   ]
  },
  {
   "cell_type": "code",
   "execution_count": null,
   "metadata": {},
   "outputs": [],
   "source": [
    "dataframe = shot_dataset_enriched.to_pandas(\n",
    "    additional_columns={\n",
    "        'score': lambda event: str(event.state['score']),\n",
    "        'player': lambda event: str(event.player)\n",
    "    }\n",
    ")\n",
    "\n",
    "dataframe[['player', 'score', 'event_type', 'result']]"
   ]
  },
  {
   "cell_type": "markdown",
   "metadata": {},
   "source": [
    "## Playing time"
   ]
  },
  {
   "cell_type": "code",
   "execution_count": null,
   "metadata": {},
   "outputs": [],
   "source": [
    "from itertools import groupby\n",
    "from collections import Counter\n",
    "\n",
    "dataset_with_lineup = dataset.add_state('lineup')\n",
    "\n",
    "\n",
    "playing_time_per_player = Counter()\n",
    "for (period, lineup), events in groupby(dataset_with_lineup.events, \n",
    "                                        key=lambda event: (\n",
    "                                            event.period, \n",
    "                                            event.state['lineup'].players\n",
    "                                        )):\n",
    "    events = list(events)\n",
    "    length = events[-1].timestamp - events[0].timestamp\n",
    "    playing_time_per_player.update({\n",
    "        player: length\n",
    "        for player in lineup\n",
    "    })"
   ]
  },
  {
   "cell_type": "code",
   "execution_count": null,
   "metadata": {},
   "outputs": [],
   "source": [
    "for player, playing_seconds in sorted(playing_time_per_player.items(), key=lambda item: -1 * item[1]):\n",
    "    if player.team == home_team:\n",
    "        print(f\"{str(player):<20} {playing_seconds/60:02.0f} minutes\")"
   ]
  },
  {
   "cell_type": "code",
   "execution_count": null,
   "metadata": {},
   "outputs": [],
   "source": []
  }
 ],
 "metadata": {
  "kernelspec": {
   "display_name": "Python (Global)",
   "language": "python",
   "name": "global"
  },
  "language_info": {
   "codemirror_mode": {
    "name": "ipython",
    "version": 3
   },
   "file_extension": ".py",
   "mimetype": "text/x-python",
   "name": "python",
   "nbconvert_exporter": "python",
   "pygments_lexer": "ipython3",
   "version": "3.8.5"
  }
 },
 "nbformat": 4,
 "nbformat_minor": 4
}
